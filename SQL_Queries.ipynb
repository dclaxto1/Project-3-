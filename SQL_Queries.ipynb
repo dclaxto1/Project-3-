{
 "cells": [
  {
   "cell_type": "code",
   "execution_count": 2,
   "id": "e1a51c81",
   "metadata": {},
   "outputs": [],
   "source": [
    "#importing dependencies/libraries\n",
    "import sqlite3\n",
    "import pandas as pd"
   ]
  },
  {
   "cell_type": "code",
   "execution_count": 3,
   "id": "d37a8eec",
   "metadata": {},
   "outputs": [],
   "source": [
    "#connect to database\n",
    "filename = 'city_weather_info.db'\n",
    "conn = sqlite3.connect(filename)\n",
    "cur = conn.cursor()"
   ]
  },
  {
   "cell_type": "code",
   "execution_count": 20,
   "id": "f7ad4f84",
   "metadata": {},
   "outputs": [
    {
     "name": "stdout",
     "output_type": "stream",
     "text": [
      "spring:(71.36923076923078,)\n",
      "summer:(85.67692307692307,)\n",
      "fall:(71.25777777777779,)\n",
      "winter:(52.80000000000002,)\n"
     ]
    }
   ],
   "source": [
    "#finding average max temp in spring,summ, fall, and winter for atlanta\n",
    "cur.execute('SELECT avg(max_temp) FROM combined_weather where date between \"2022-03-01\" and \"2022-05-31\" and city_id = 1')\n",
    "for row in cur:\n",
    "    print(f\"spring:{row}\")\n",
    "cur.execute('SELECT avg(max_temp) FROM combined_weather where date between \"2022-06-01\" and \"2022-08-31\" and city_id = 1')\n",
    "for row in cur:\n",
    "    print(f\"summer:{row}\")\n",
    "cur.execute('SELECT avg(max_temp) FROM combined_weather where date between \"2022-09-01\" and \"2022-11-30\" and city_id = 1')\n",
    "for row in cur:\n",
    "    print(f\"fall:{row}\")\n",
    "cur.execute('SELECT avg(max_temp) FROM combined_weather where date between \"2022-12-01\" and \"2022-12-31\" and city_id = 1')\n",
    "for row in cur:\n",
    "    print(f\"winter:{row}\")"
   ]
  },
  {
   "cell_type": "code",
   "execution_count": 21,
   "id": "59cbe436",
   "metadata": {},
   "outputs": [
    {
     "name": "stdout",
     "output_type": "stream",
     "text": [
      "spring:(62.50109890109891,)\n",
      "summer:(84.61978021978021,)\n",
      "fall:(65.89777777777778,)\n",
      "winter:(43.819999999999986,)\n"
     ]
    }
   ],
   "source": [
    "#finding average max temp in spring,summ, fall, and winter for Philadelphia\n",
    "cur.execute('SELECT avg(max_temp) FROM combined_weather where date between \"2022-03-01\" and \"2022-05-31\" and city_id = 2')\n",
    "for row in cur:\n",
    "    print(f\"spring:{row}\")\n",
    "cur.execute('SELECT avg(max_temp) FROM combined_weather where date between \"2022-06-01\" and \"2022-08-31\" and city_id = 2')\n",
    "for row in cur:\n",
    "    print(f\"summer:{row}\")\n",
    "cur.execute('SELECT avg(max_temp) FROM combined_weather where date between \"2022-09-01\" and \"2022-11-30\" and city_id = 2')\n",
    "for row in cur:\n",
    "    print(f\"fall:{row}\")\n",
    "cur.execute('SELECT avg(max_temp) FROM combined_weather where date between \"2022-12-01\" and \"2022-12-31\" and city_id = 2')\n",
    "for row in cur:\n",
    "    print(f\"winter:{row}\")"
   ]
  },
  {
   "cell_type": "code",
   "execution_count": 22,
   "id": "5bbe1415",
   "metadata": {},
   "outputs": [
    {
     "name": "stdout",
     "output_type": "stream",
     "text": [
      "spring:(54.71428571428572,)\n",
      "summer:(78.66373626373627,)\n",
      "fall:(61.49333333333332,)\n",
      "winter:(35.63666666666667,)\n"
     ]
    }
   ],
   "source": [
    "#finding average max temp in spring,summ, fall, and winter for Chicago\n",
    "cur.execute('SELECT avg(max_temp) FROM combined_weather where date between \"2022-03-01\" and \"2022-05-31\" and city_id = 3')\n",
    "for row in cur:\n",
    "    print(f\"spring:{row}\")\n",
    "cur.execute('SELECT avg(max_temp) FROM combined_weather where date between \"2022-06-01\" and \"2022-08-31\" and city_id = 3')\n",
    "for row in cur:\n",
    "    print(f\"summer:{row}\")\n",
    "cur.execute('SELECT avg(max_temp) FROM combined_weather where date between \"2022-09-01\" and \"2022-11-30\" and city_id = 3')\n",
    "for row in cur:\n",
    "    print(f\"fall:{row}\")\n",
    "cur.execute('SELECT avg(max_temp) FROM combined_weather where date between \"2022-12-01\" and \"2022-12-31\" and city_id = 3')\n",
    "for row in cur:\n",
    "    print(f\"winter:{row}\")"
   ]
  }
 ],
 "metadata": {
  "kernelspec": {
   "display_name": "Python 3 (ipykernel)",
   "language": "python",
   "name": "python3"
  },
  "language_info": {
   "codemirror_mode": {
    "name": "ipython",
    "version": 3
   },
   "file_extension": ".py",
   "mimetype": "text/x-python",
   "name": "python",
   "nbconvert_exporter": "python",
   "pygments_lexer": "ipython3",
   "version": "3.10.9"
  }
 },
 "nbformat": 4,
 "nbformat_minor": 5
}
